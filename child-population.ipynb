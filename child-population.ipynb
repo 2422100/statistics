{
 "cells": [
  {
   "cell_type": "code",
   "execution_count": 1,
   "metadata": {},
   "outputs": [],
   "source": [
    "import pandas as pd"
   ]
  },
  {
   "cell_type": "code",
   "execution_count": 6,
   "metadata": {},
   "outputs": [
    {
     "name": "stdout",
     "output_type": "stream",
     "text": [
      "完了\n"
     ]
    }
   ],
   "source": [
    "meta = pd.read_csv('csv/SSDSE-A-2024.csv', header=None, nrows=2, encoding='Shift_JIS')\n",
    "\n",
    "df = pd.read_csv('csv/SSDSE-A-2024.csv', header=2, encoding='Shift_JIS')\n",
    "\n",
    "years = meta.iloc[1]\n",
    "\n",
    "from collections import defaultdict\n",
    "year_cols = defaultdict(list)\n",
    "for col in df.columns[3:]:\n",
    "    idx = df.columns.get_loc(col)\n",
    "    yr = years[idx]\n",
    "    year_cols[yr].append(col)\n",
    "\n",
    "for yr, cols in year_cols.items():\n",
    "    out = df[['都道府県', '市区町村'] + cols]\n",
    "    out.to_csv(f'csv/{(yr)}.csv', index=False, encoding='Shift_JIS')\n",
    "\n",
    "print(\"完了\")"
   ]
  },
  {
   "cell_type": "code",
   "execution_count": 2,
   "metadata": {},
   "outputs": [
    {
     "name": "stdout",
     "output_type": "stream",
     "text": [
      "     都道府県  市区町村  子ども人口減少率(%)\n",
      "0     北海道   札幌市    -1.100328\n",
      "1     北海道   函館市    -1.683645\n",
      "2     北海道   小樽市    -2.064202\n",
      "3     北海道   旭川市    -1.339637\n",
      "4     北海道   室蘭市    -1.402154\n",
      "...   ...   ...          ...\n",
      "1736  沖縄県  久米島町     0.124031\n",
      "1737  沖縄県  八重瀬町    -0.660309\n",
      "1738  沖縄県  多良間村    -4.666667\n",
      "1739  沖縄県   竹富町    -1.291843\n",
      "1740  沖縄県  与那国町    -3.686534\n",
      "\n",
      "[1741 rows x 3 columns]\n"
     ]
    }
   ],
   "source": [
    "# 2020年ファイルを読み込み（15歳未満人口 を含む）\n",
    "df20 = pd.read_csv('csv/2020.csv', encoding='Shift_JIS')\n",
    "# 2021年ファイルを読み込み（出生数 を含む）\n",
    "df21 = pd.read_csv('csv/2021.csv', encoding='Shift_JIS')\n",
    "\n",
    "# 必要な列だけ抜き出して市区町村キーでマージ\n",
    "df = pd.merge(\n",
    "    df20[['都道府県','市区町村','15歳未満人口']],\n",
    "    df21[['都道府県','市区町村','出生数']],\n",
    "    on=['都道府県','市区町村'],\n",
    "    how='inner'\n",
    ")\n",
    "\n",
    "# 計算：((出生数 - 15歳未満人口) / 15) / 15歳未満人口\n",
    "df['計算結果'] = ( df['出生数'] - df['15歳未満人口'] / 15 ) / df['15歳未満人口']\n",
    "\n",
    "# 小数点以下を％表示したければ *100 しておく\n",
    "df['子ども人口減少率(%)'] = df['計算結果'] * 100\n",
    "\n",
    "# 結果を確認\n",
    "print(df[['都道府県', '市区町村', '子ども人口減少率(%)']])"
   ]
  },
  {
   "cell_type": "code",
   "execution_count": 3,
   "metadata": {},
   "outputs": [
    {
     "name": "stdout",
     "output_type": "stream",
     "text": [
      "2020年15歳未満人口合計: 14,955,692\n",
      "2021年出生数合計        : 811,611\n",
      "全国の計算結果: -0.012399\n",
      "全国の子ども人口減少率(%)    : -1.2399%\n"
     ]
    }
   ],
   "source": [
    "df20 = pd.read_csv(\n",
    "    'csv/2020.csv',\n",
    "    usecols=['都道府県','市区町村','15歳未満人口'],\n",
    "    encoding='Shift_JIS'\n",
    ")\n",
    "df21 = pd.read_csv(\n",
    "    'csv/2021.csv',\n",
    "    usecols=['都道府県','市区町村','出生数'],\n",
    "    encoding='Shift_JIS'\n",
    ")\n",
    "\n",
    "pop2020 = df20['15歳未満人口'].sum()\n",
    "births2021 = df21['出生数'].sum()\n",
    "\n",
    "print(f\"2020年15歳未満人口合計: {pop2020:,}\")\n",
    "print(f\"2021年出生数合計        : {births2021:,}\")\n",
    "\n",
    "#   ((出生数合計 − 15歳未満人口合計) / 15) / 15歳未満人口合計\n",
    "rate = (births2021 - pop2020 / 15) / pop2020\n",
    "\n",
    "print(f\"全国の計算結果: {rate:.6f}\")\n",
    "print(f\"全国の子ども人口減少率(%)    : {rate*100:.4f}%\")"
   ]
  },
  {
   "cell_type": "code",
   "execution_count": 4,
   "metadata": {},
   "outputs": [
    {
     "name": "stdout",
     "output_type": "stream",
     "text": [
      "1番目に減少率が高い市区町村: 福島県 双葉町\n",
      "2番目に減少率が高い市区町村: 福島県 大熊町\n",
      "3番目に減少率が高い市区町村: 福島県 浪江町\n",
      "4番目に減少率が高い市区町村: 福島県 富岡町\n",
      "5番目に減少率が高い市区町村: 福島県 葛尾村\n",
      "6番目に減少率が高い市区町村: 福島県 飯舘村\n",
      "7番目に減少率が高い市区町村: 奈良県 上北山村\n",
      "8番目に減少率が高い市区町村: 奈良県 野迫川村\n",
      "9番目に減少率が高い市区町村: 長野県 根羽村\n",
      "10番目に減少率が高い市区町村: 奈良県 下北山村\n",
      "\n",
      "---\n",
      "\n",
      "1番目に減少率が低い市区町村: 東京都 青ヶ島村\n",
      "2番目に減少率が低い市区町村: 長野県 平谷村\n",
      "3番目に減少率が低い市区町村: 岡山県 新庄村\n",
      "4番目に減少率が低い市区町村: 鳥取県 若桜町\n",
      "5番目に減少率が低い市区町村: 青森県 新郷村\n",
      "6番目に減少率が低い市区町村: 山梨県 早川町\n",
      "7番目に減少率が低い市区町村: 福岡県 赤村\n",
      "8番目に減少率が低い市区町村: 山梨県 小菅村\n",
      "9番目に減少率が低い市区町村: 北海道 神恵内村\n",
      "10番目に減少率が低い市区町村: 青森県 風間浦村\n"
     ]
    }
   ],
   "source": [
    "# 1番減少率が高い市区町村を探す\n",
    "max_row = df.loc[df['子ども人口減少率(%)'].idxmax()]\n",
    "print(f\"1番目に減少率が高い市区町村: {max_row['都道府県']} {max_row['市区町村']}\")\n",
    "# 2番目に減少率が高い市区町村を探す\n",
    "second_max_row = df.nlargest(2, '子ども人口減少率(%)').iloc[1]\n",
    "print(f\"2番目に減少率が高い市区町村: {second_max_row['都道府県']} {second_max_row['市区町村']}\")\n",
    "# 3番目に減少率が高い市区町村を探す\n",
    "third_max_row = df.nlargest(3, '子ども人口減少率(%)').iloc[2]\n",
    "print(f\"3番目に減少率が高い市区町村: {third_max_row['都道府県']} {third_max_row['市区町村']}\")\n",
    "# 4番目に減少率が高い市区町村を探す\n",
    "fourth_max_row = df.nlargest(4, '子ども人口減少率(%)').iloc[3]\n",
    "print(f\"4番目に減少率が高い市区町村: {fourth_max_row['都道府県']} {fourth_max_row['市区町村']}\")\n",
    "# 5番目に減少率が高い市区町村を探す\n",
    "fifth_max_row = df.nlargest(5, '子ども人口減少率(%)').iloc[4]\n",
    "print(f\"5番目に減少率が高い市区町村: {fifth_max_row['都道府県']} {fifth_max_row['市区町村']}\")\n",
    "# 6番目に減少率が高い市区町村を探す\n",
    "sixth_max_row = df.nlargest(6, '子ども人口減少率(%)').iloc[5]\n",
    "print(f\"6番目に減少率が高い市区町村: {sixth_max_row['都道府県']} {sixth_max_row['市区町村']}\")\n",
    "# 7番目に減少率が高い市区町村を探す\n",
    "seventh_max_row = df.nlargest(7, '子ども人口減少率(%)').iloc[6]\n",
    "print(f\"7番目に減少率が高い市区町村: {seventh_max_row['都道府県']} {seventh_max_row['市区町村']}\")\n",
    "# 8番目に減少率が高い市区町村を探す\n",
    "eighth_max_row = df.nlargest(8, '子ども人口減少率(%)').iloc[7]\n",
    "print(f\"8番目に減少率が高い市区町村: {eighth_max_row['都道府県']} {eighth_max_row['市区町村']}\")\n",
    "# 9番目に減少率が高い市区町村を探す\n",
    "ninth_max_row = df.nlargest(9, '子ども人口減少率(%)').iloc[8]\n",
    "print(f\"9番目に減少率が高い市区町村: {ninth_max_row['都道府県']} {ninth_max_row['市区町村']}\")\n",
    "# 10番目に減少率が高い市区町村を探す\n",
    "tenth_max_row = df.nlargest(10, '子ども人口減少率(%)').iloc[9]\n",
    "print(f\"10番目に減少率が高い市区町村: {tenth_max_row['都道府県']} {tenth_max_row['市区町村']}\")\n",
    "\n",
    "print(\"\\n---\\n\")\n",
    "\n",
    "# 1番減少率が低い市区町村を探す\n",
    "min_row = df.loc[df['子ども人口減少率(%)'].idxmin()]\n",
    "print(f\"1番目に減少率が低い市区町村: {min_row['都道府県']} {min_row['市区町村']}\")\n",
    "# 2番目に減少率が低い市区町村を探す\n",
    "second_min_row = df.nsmallest(2, '子ども人口減少率(%)').iloc[1]\n",
    "print(f\"2番目に減少率が低い市区町村: {second_min_row['都道府県']} {second_min_row['市区町村']}\")\n",
    "# 3番目に減少率が低い市区町村を探す\n",
    "third_min_row = df.nsmallest(3, '子ども人口減少率(%)').iloc[2]\n",
    "print(f\"3番目に減少率が低い市区町村: {third_min_row['都道府県']} {third_min_row['市区町村']}\")\n",
    "# 4番目に減少率が低い市区町村を探す\n",
    "fourth_min_row = df.nsmallest(4, '子ども人口減少率(%)').iloc[3]\n",
    "print(f\"4番目に減少率が低い市区町村: {fourth_min_row['都道府県']} {fourth_min_row['市区町村']}\")\n",
    "# 5番目に減少率が低い市区町村を探す\n",
    "fifth_min_row = df.nsmallest(5, '子ども人口減少率(%)').iloc[4]\n",
    "print(f\"5番目に減少率が低い市区町村: {fifth_min_row['都道府県']} {fifth_min_row['市区町村']}\")\n",
    "# 6番目に減少率が低い市区町村を探す\n",
    "sixth_min_row = df.nsmallest(6, '子ども人口減少率(%)').iloc[5]\n",
    "print(f\"6番目に減少率が低い市区町村: {sixth_min_row['都道府県']} {sixth_min_row['市区町村']}\")\n",
    "# 7番目に減少率が低い市区町村を探す\n",
    "seventh_min_row = df.nsmallest(7, '子ども人口減少率(%)').iloc[6]\n",
    "print(f\"7番目に減少率が低い市区町村: {seventh_min_row['都道府県']} {seventh_min_row['市区町村']}\")\n",
    "# 8番目に減少率が低い市区町村を探す\n",
    "eighth_min_row = df.nsmallest(8, '子ども人口減少率(%)').iloc[7]\n",
    "print(f\"8番目に減少率が低い市区町村: {eighth_min_row['都道府県']} {eighth_min_row['市区町村']}\")\n",
    "# 9番目に減少率が低い市区町村を探す\n",
    "ninth_min_row = df.nsmallest(9, '子ども人口減少率(%)').iloc[8]\n",
    "print(f\"9番目に減少率が低い市区町村: {ninth_min_row['都道府県']} {ninth_min_row['市区町村']}\")\n",
    "# 10番目に減少率が低い市区町村を探す\n",
    "tenth_min_row = df.nsmallest(10, '子ども人口減少率(%)').iloc[9]\n",
    "print(f\"10番目に減少率が低い市区町村: {tenth_min_row['都道府県']} {tenth_min_row['市区町村']}\")"
   ]
  }
 ],
 "metadata": {
  "kernelspec": {
   "display_name": ".venv",
   "language": "python",
   "name": "python3"
  },
  "language_info": {
   "codemirror_mode": {
    "name": "ipython",
    "version": 3
   },
   "file_extension": ".py",
   "mimetype": "text/x-python",
   "name": "python",
   "nbconvert_exporter": "python",
   "pygments_lexer": "ipython3",
   "version": "3.10.1"
  }
 },
 "nbformat": 4,
 "nbformat_minor": 2
}
