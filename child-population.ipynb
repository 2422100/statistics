{
 "cells": [
  {
   "cell_type": "code",
   "execution_count": 2,
   "metadata": {},
   "outputs": [],
   "source": [
    "import pandas as pd"
   ]
  },
  {
   "cell_type": "code",
   "execution_count": 6,
   "metadata": {},
   "outputs": [
    {
     "name": "stdout",
     "output_type": "stream",
     "text": [
      "完了\n"
     ]
    }
   ],
   "source": [
    "meta = pd.read_csv('csv/SSDSE-A-2024.csv', header=None, nrows=2, encoding='Shift_JIS')\n",
    "\n",
    "df = pd.read_csv('csv/SSDSE-A-2024.csv', header=2, encoding='Shift_JIS')\n",
    "\n",
    "years = meta.iloc[1]\n",
    "\n",
    "from collections import defaultdict\n",
    "year_cols = defaultdict(list)\n",
    "for col in df.columns[3:]:\n",
    "    idx = df.columns.get_loc(col)\n",
    "    yr = years[idx]\n",
    "    year_cols[yr].append(col)\n",
    "\n",
    "for yr, cols in year_cols.items():\n",
    "    out = df[['都道府県', '市区町村'] + cols]\n",
    "    out.to_csv(f'csv/{(yr)}.csv', index=False, encoding='Shift_JIS')\n",
    "\n",
    "print(\"完了\")"
   ]
  }
 ],
 "metadata": {
  "kernelspec": {
   "display_name": ".venv",
   "language": "python",
   "name": "python3"
  },
  "language_info": {
   "codemirror_mode": {
    "name": "ipython",
    "version": 3
   },
   "file_extension": ".py",
   "mimetype": "text/x-python",
   "name": "python",
   "nbconvert_exporter": "python",
   "pygments_lexer": "ipython3",
   "version": "3.10.1"
  }
 },
 "nbformat": 4,
 "nbformat_minor": 2
}
