{
 "cells": [
  {
   "cell_type": "code",
   "execution_count": 3,
   "metadata": {},
   "outputs": [],
   "source": [
    "import pandas as pd"
   ]
  },
  {
   "cell_type": "code",
   "execution_count": 6,
   "metadata": {},
   "outputs": [
    {
     "name": "stdout",
     "output_type": "stream",
     "text": [
      "完了\n"
     ]
    }
   ],
   "source": [
    "meta = pd.read_csv('csv/SSDSE-A-2024.csv', header=None, nrows=2, encoding='Shift_JIS')\n",
    "\n",
    "df = pd.read_csv('csv/SSDSE-A-2024.csv', header=2, encoding='Shift_JIS')\n",
    "\n",
    "years = meta.iloc[1]\n",
    "\n",
    "from collections import defaultdict\n",
    "year_cols = defaultdict(list)\n",
    "for col in df.columns[3:]:\n",
    "    idx = df.columns.get_loc(col)\n",
    "    yr = years[idx]\n",
    "    year_cols[yr].append(col)\n",
    "\n",
    "for yr, cols in year_cols.items():\n",
    "    out = df[['都道府県', '市区町村'] + cols]\n",
    "    out.to_csv(f'csv/{(yr)}.csv', index=False, encoding='Shift_JIS')\n",
    "\n",
    "print(\"完了\")"
   ]
  },
  {
   "cell_type": "code",
   "execution_count": 4,
   "metadata": {},
   "outputs": [
    {
     "name": "stdout",
     "output_type": "stream",
     "text": [
      "     都道府県  市区町村  子ども人口減少率(%)\n",
      "0     北海道   札幌市    -1.100328\n",
      "1     北海道   函館市    -1.683645\n",
      "2     北海道   小樽市    -2.064202\n",
      "3     北海道   旭川市    -1.339637\n",
      "4     北海道   室蘭市    -1.402154\n",
      "...   ...   ...          ...\n",
      "1736  沖縄県  久米島町     0.124031\n",
      "1737  沖縄県  八重瀬町    -0.660309\n",
      "1738  沖縄県  多良間村    -4.666667\n",
      "1739  沖縄県   竹富町    -1.291843\n",
      "1740  沖縄県  与那国町    -3.686534\n",
      "\n",
      "[1741 rows x 3 columns]\n"
     ]
    }
   ],
   "source": [
    "# 2020年ファイルを読み込み（15歳未満人口 を含む）\n",
    "df20 = pd.read_csv('csv/2020.csv', encoding='Shift_JIS')\n",
    "# 2021年ファイルを読み込み（出生数 を含む）\n",
    "df21 = pd.read_csv('csv/2021.csv', encoding='Shift_JIS')\n",
    "\n",
    "# 必要な列だけ抜き出して市区町村キーでマージ\n",
    "df = pd.merge(\n",
    "    df20[['都道府県','市区町村','15歳未満人口']],\n",
    "    df21[['都道府県','市区町村','出生数']],\n",
    "    on=['都道府県','市区町村'],\n",
    "    how='inner'\n",
    ")\n",
    "\n",
    "# 計算：((出生数 - 15歳未満人口) / 15) / 15歳未満人口\n",
    "df['計算結果'] = ( df['出生数'] - df['15歳未満人口'] / 15 ) / df['15歳未満人口']\n",
    "\n",
    "# 小数点以下を％表示したければ *100 しておく\n",
    "df['子ども人口減少率(%)'] = df['計算結果'] * 100\n",
    "\n",
    "# 結果を確認\n",
    "print(df[['都道府県', '市区町村', '子ども人口減少率(%)']])"
   ]
  }
 ],
 "metadata": {
  "kernelspec": {
   "display_name": ".venv",
   "language": "python",
   "name": "python3"
  },
  "language_info": {
   "codemirror_mode": {
    "name": "ipython",
    "version": 3
   },
   "file_extension": ".py",
   "mimetype": "text/x-python",
   "name": "python",
   "nbconvert_exporter": "python",
   "pygments_lexer": "ipython3",
   "version": "3.10.1"
  }
 },
 "nbformat": 4,
 "nbformat_minor": 2
}
