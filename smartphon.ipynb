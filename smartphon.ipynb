{
 "cells": [
  {
   "cell_type": "code",
   "execution_count": 45,
   "id": "6fb3c9a5",
   "metadata": {},
   "outputs": [],
   "source": [
    "import pandas as pd\n",
    "import numpy as np\n",
    "import matplotlib.pyplot as plt\n",
    "import seaborn as sns\n",
    "import japanize_matplotlib"
   ]
  },
  {
   "cell_type": "code",
   "execution_count": 46,
   "id": "6d37b8f4",
   "metadata": {},
   "outputs": [],
   "source": [
    "df = pd.read_csv('csv/SSDSE-D-2023.csv', header=1, encoding='Shift_JIS')"
   ]
  },
  {
   "cell_type": "code",
   "execution_count": 47,
   "id": "33007cf1",
   "metadata": {},
   "outputs": [
    {
     "name": "stdout",
     "output_type": "stream",
     "text": [
      "   男女の別   地域コード 都道府県  推定人口（10歳以上）  学習・自己啓発・訓練の総数   外国語    英語  英語以外の外国語  \\\n",
      "0  0_総数  R00000   全国       112462           39.6  14.1  12.8       4.2   \n",
      "\n",
      "   商業実務・ビジネス関係(総数)  パソコンなどの情報処理  ...  その他.4  通勤・通学.1  仕事.1  学業.1    起床  朝食開始  \\\n",
      "0             20.1         16.5  ...     16       79   340   393  6:38  7:11   \n",
      "\n",
      "    夕食開始     就寝    出勤  仕事からの帰宅時間  \n",
      "0  18:58  23:04  8:20      18:34  \n",
      "\n",
      "[1 rows x 124 columns]\n"
     ]
    }
   ],
   "source": [
    "print(df.head(1))"
   ]
  },
  {
   "cell_type": "code",
   "execution_count": 32,
   "id": "c75fdbb1",
   "metadata": {},
   "outputs": [
    {
     "name": "stdout",
     "output_type": "stream",
     "text": [
      "0      42.9\n",
      "1      44.2\n",
      "2      34.4\n",
      "3      36.9\n",
      "4      42.5\n",
      "       ... \n",
      "139    34.7\n",
      "140    31.4\n",
      "141    33.0\n",
      "142    32.3\n",
      "143    34.9\n",
      "Name: スマートフォン・家庭用ゲーム機などによるゲーム, Length: 144, dtype: float64\n"
     ]
    }
   ],
   "source": [
    "# スマートフォン・家庭用ゲーム機などによるゲームのデータを確認\n",
    "print(df['スマートフォン・家庭用ゲーム機などによるゲーム'])"
   ]
  },
  {
   "cell_type": "code",
   "execution_count": 41,
   "id": "02e1c4b2",
   "metadata": {},
   "outputs": [
    {
     "name": "stdout",
     "output_type": "stream",
     "text": [
      "count    144.000000\n",
      "mean      39.897917\n",
      "std        4.923150\n",
      "min       29.300000\n",
      "25%       36.575000\n",
      "50%       39.850000\n",
      "75%       43.750000\n",
      "max       52.700000\n",
      "Name: スマートフォン・家庭用ゲーム機などによるゲーム, dtype: float64\n"
     ]
    }
   ],
   "source": [
    "# スマートフォン・家庭用ゲーム機などによるゲームのデータの統計情報\n",
    "print(df['スマートフォン・家庭用ゲーム機などによるゲーム'].describe())"
   ]
  },
  {
   "cell_type": "code",
   "execution_count": 44,
   "id": "1f67bcaa",
   "metadata": {},
   "outputs": [
    {
     "data": {
      "image/png": "[encoded data removed]",
      "text/plain": [
       "<Figure size 640x480 with 1 Axes>"
      ]
     },
     "metadata": {},
     "output_type": "display_data"
    }
   ],
   "source": [
    "# スマートフォン・家庭用ゲーム機などによるゲームのデータのヒストグラムを作成\n",
    "df['スマートフォン・家庭用ゲーム機などによるゲーム'].hist(bins=20)\n",
    "plt.title('スマートフォン・家庭用ゲーム機などによるゲームのヒストグラム')\n",
    "plt.xlabel('時間（分）')\n",
    "plt.ylabel('頻度')\n",
    "plt.show()"
   ]
  },
  {
   "cell_type": "code",
   "execution_count": 50,
   "id": "816f0340",
   "metadata": {},
   "outputs": [
    {
     "data": {
      "text/html": [
       "<div>\n",
       "<style scoped>\n",
       "    .dataframe tbody tr th:only-of-type {\n",
       "        vertical-align: middle;\n",
       "    }\n",
       "\n",
       "    .dataframe tbody tr th {\n",
       "        vertical-align: top;\n",
       "    }\n",
       "\n",
       "    .dataframe thead th {\n",
       "        text-align: right;\n",
       "    }\n",
       "</style>\n",
       "<table border=\"1\" class=\"dataframe\">\n",
       "  <thead>\n",
       "    <tr style=\"text-align: right;\">\n",
       "      <th></th>\n",
       "      <th>1日あたりの趣味におけるスマホの利用時間</th>\n",
       "      <th>睡眠時間</th>\n",
       "    </tr>\n",
       "  </thead>\n",
       "  <tbody>\n",
       "    <tr>\n",
       "      <th>1日あたりの趣味におけるスマホの利用時間</th>\n",
       "      <td>1.000000</td>\n",
       "      <td>-0.381804</td>\n",
       "    </tr>\n",
       "    <tr>\n",
       "      <th>睡眠時間</th>\n",
       "      <td>-0.381804</td>\n",
       "      <td>1.000000</td>\n",
       "    </tr>\n",
       "  </tbody>\n",
       "</table>\n",
       "</div>"
      ],
      "text/plain": [
       "                      1日あたりの趣味におけるスマホの利用時間      睡眠時間\n",
       "1日あたりの趣味におけるスマホの利用時間              1.000000 -0.381804\n",
       "睡眠時間                             -0.381804  1.000000"
      ]
     },
     "execution_count": 50,
     "metadata": {},
     "output_type": "execute_result"
    }
   ],
   "source": [
    "# 趣味におけるスマホの利用時間 = ＣＤ・スマートフォンなどによる音楽鑑賞 + スマートフォン・家庭用ゲーム機などによるゲーム\n",
    "df['趣味におけるスマホの利用時間'] = df['ＣＤ・スマートフォンなどによる音楽鑑賞'] + df['スマートフォン・家庭用ゲーム機などによるゲーム']\n",
    "df['1日あたりの趣味におけるスマホの利用時間'] = df['趣味におけるスマホの利用時間'] / 30\n",
    "\n",
    "# 睡眠時間 = 起床(hh:mm) - 就寝(hh:mm)\n",
    "df['起床'] = pd.to_datetime(df['起床'], format='%H:%M')\n",
    "df['就寝'] = pd.to_datetime(df['就寝'], format='%H:%M')\n",
    "df['睡眠時間'] = (df['起床'] - df['就寝']).dt.total_seconds()\n",
    "\n",
    "# 趣味におけるスマホの利用時間と睡眠時間の相関\n",
    "df[['1日あたりの趣味におけるスマホの利用時間', '睡眠時間']].corr()"
   ]
  }
 ],
 "metadata": {
  "kernelspec": {
   "display_name": ".venv",
   "language": "python",
   "name": "python3"
  },
  "language_info": {
   "codemirror_mode": {
    "name": "ipython",
    "version": 3
   },
   "file_extension": ".py",
   "mimetype": "text/x-python",
   "name": "python",
   "nbconvert_exporter": "python",
   "pygments_lexer": "ipython3",
   "version": "3.10.1"
  }
 },
 "nbformat": 4,
 "nbformat_minor": 5
}
